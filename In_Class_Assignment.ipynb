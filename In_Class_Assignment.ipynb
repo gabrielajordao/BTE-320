{
  "nbformat": 4,
  "nbformat_minor": 0,
  "metadata": {
    "colab": {
      "provenance": [],
      "toc_visible": true,
      "authorship_tag": "ABX9TyPGmRTJylAMl/Jy3rBm6nuM",
      "include_colab_link": true
    },
    "kernelspec": {
      "name": "python3",
      "display_name": "Python 3"
    },
    "language_info": {
      "name": "python"
    }
  },
  "cells": [
    {
      "cell_type": "markdown",
      "metadata": {
        "id": "view-in-github",
        "colab_type": "text"
      },
      "source": [
        "<a href=\"https://colab.research.google.com/github/gabrielajordao/BTE-320/blob/main/In_Class_Assignment.ipynb\" target=\"_parent\"><img src=\"https://colab.research.google.com/assets/colab-badge.svg\" alt=\"Open In Colab\"/></a>"
      ]
    },
    {
      "cell_type": "markdown",
      "source": [
        "**Assignment 1 (income statement)**"
      ],
      "metadata": {
        "id": "qgC75f7baeKm"
      }
    },
    {
      "cell_type": "code",
      "source": [
        "sales= float(input('enter sales:($)'))\n",
        "COGS= 0.4*sales\n",
        "sales-COGS"
      ],
      "metadata": {
        "colab": {
          "base_uri": "https://localhost:8080/"
        },
        "id": "wWPIorqMaiCI",
        "outputId": "fd60ef6f-721c-4c72-e78a-ee955a301a6b"
      },
      "execution_count": null,
      "outputs": [
        {
          "name": "stdout",
          "output_type": "stream",
          "text": [
            "enter sales:($)12000\n"
          ]
        },
        {
          "output_type": "execute_result",
          "data": {
            "text/plain": [
              "7200.0"
            ]
          },
          "metadata": {},
          "execution_count": 13
        }
      ]
    },
    {
      "cell_type": "markdown",
      "source": [
        "Class Solution:"
      ],
      "metadata": {
        "id": "bXMiT3ckeH7o"
      }
    },
    {
      "cell_type": "code",
      "source": [
        "sales= float(input('enter sales ($):'))\n",
        "COGS=0.4\n",
        "grossprofit= sales - (COGS* sales)\n",
        "print(grossprofit)\n"
      ],
      "metadata": {
        "colab": {
          "base_uri": "https://localhost:8080/"
        },
        "id": "NZ9_3yAycWMl",
        "outputId": "50edff1b-1dd2-4d5c-88dc-0f23d21b2cd1"
      },
      "execution_count": null,
      "outputs": [
        {
          "output_type": "stream",
          "name": "stdout",
          "text": [
            "enter sales ($):12000\n",
            "7200.0\n"
          ]
        }
      ]
    },
    {
      "cell_type": "code",
      "source": [
        "sales= float(input('enter sales ($):'))\n",
        "COGS=0.4\n",
        "grossprofit= sales - (COGS* sales)\n",
        "print(f\"Gross profit: $ {grossprofit}\")\n"
      ],
      "metadata": {
        "colab": {
          "base_uri": "https://localhost:8080/"
        },
        "id": "9pkubIC_eRbf",
        "outputId": "fd6044c2-6ac6-49d3-c8e2-eacdb1c0392e"
      },
      "execution_count": null,
      "outputs": [
        {
          "output_type": "stream",
          "name": "stdout",
          "text": [
            "enter sales ($):12000\n",
            "Gross profit: $ 7200.0\n"
          ]
        }
      ]
    },
    {
      "cell_type": "markdown",
      "source": [
        "Part 2"
      ],
      "metadata": {
        "id": "GzfHMZo0fyho"
      }
    },
    {
      "cell_type": "code",
      "source": [
        "sales= float(input('enter sales ($):'))\n",
        "COGS=0.4\n",
        "tax= float(input('enter tax:'))\n",
        "grossprofit= sales - (COGS* sales)\n",
        "netincome= grossprofit-tax\n",
        "print(sales)\n",
        "print(COGS)\n",
        "print(grossprofit)\n",
        "print(tax)\n",
        "print(netincome)\n",
        "\n",
        "\n"
      ],
      "metadata": {
        "colab": {
          "base_uri": "https://localhost:8080/"
        },
        "id": "OgdRrubsf2hp",
        "outputId": "b4b8bf8f-d907-4075-f496-02057e021cf6"
      },
      "execution_count": null,
      "outputs": [
        {
          "output_type": "stream",
          "name": "stdout",
          "text": [
            "enter sales ($):12000\n",
            "enter tax:0.3\n",
            "12000.0\n",
            "0.4\n",
            "7200.0\n",
            "0.3\n",
            "7199.7\n"
          ]
        }
      ]
    },
    {
      "cell_type": "markdown",
      "source": [
        "Class Solution"
      ],
      "metadata": {
        "id": "s7LN2WRglqME"
      }
    },
    {
      "cell_type": "code",
      "source": [
        "sales= float(input('enter sales ($):'))\n",
        "print(f'sales:${sales}')\n",
        "\n",
        "COGS=0.4\n",
        "cogs_sold= sales*COGS\n",
        "print(f'cog:${cogs_sold})')\n",
        "\n",
        "grossprofit= sales - (COGS* sales)\n",
        "print(f'gross profit:${grossprofit}')\n",
        "\n",
        "rate= float(input('enter tax rate(%)'))\n",
        "print(f'rate:%{rate}')\n",
        "\n",
        "\n",
        "netprofit= grossprofit* (rate/100)\n",
        "print(f'net profit:${netprofit}')\n"
      ],
      "metadata": {
        "colab": {
          "base_uri": "https://localhost:8080/"
        },
        "id": "rIoIU3ZGhYaN",
        "outputId": "7c96da8e-b96a-48cf-dd61-44a40df0c8cf"
      },
      "execution_count": null,
      "outputs": [
        {
          "output_type": "stream",
          "name": "stdout",
          "text": [
            "enter sales ($):12000\n",
            "sales:$12000.0\n",
            "cog:$4800.0)\n",
            "gross profit:$7200.0\n",
            "enter tax rate(%)30\n",
            "rate:%30.0\n",
            "net profit:$2160.0\n"
          ]
        }
      ]
    },
    {
      "cell_type": "markdown",
      "source": [
        "**ASSIGNMENT 2- INVENTORY MGT**"
      ],
      "metadata": {
        "id": "A8HWqKBtm1HH"
      }
    },
    {
      "cell_type": "code",
      "source": [
        "#Inputs\n",
        "import math\n",
        "D=1000\n",
        "S=1500\n",
        "H=800\n",
        "EOQ=math.sqrt((2*D*S)/H)\n",
        "\n",
        "#Output\n",
        "print(EOQ)\n"
      ],
      "metadata": {
        "colab": {
          "base_uri": "https://localhost:8080/"
        },
        "id": "XNSg7q8xm0XV",
        "outputId": "61819f05-8b8a-4afe-e7a0-675808efe851"
      },
      "execution_count": null,
      "outputs": [
        {
          "output_type": "stream",
          "name": "stdout",
          "text": [
            "61.237243569579455\n"
          ]
        }
      ]
    },
    {
      "cell_type": "code",
      "source": [
        "#Inputs\n",
        "D=input('Enter demand (units/year):')\n",
        "D=int(D)\n",
        "\n",
        "S=input('Enter reorder cost ($/year):')\n",
        "S=float(S)\n",
        "\n",
        "H=input('Enter holding cost ($/year):')\n",
        "H=float(H)\n",
        "\n",
        "#Process (EOQ Calculation)\n",
        "EOQ=((2*D*S)/H)**0.5\n",
        "\n",
        "#Output (EOQ Value)\n",
        "print(f\"EOQ={EOQ} units\")\n"
      ],
      "metadata": {
        "colab": {
          "base_uri": "https://localhost:8080/"
        },
        "id": "8y_HPaxWpDDb",
        "outputId": "fb6ba55b-8a5c-4c7d-9578-27ad418a4c83"
      },
      "execution_count": null,
      "outputs": [
        {
          "output_type": "stream",
          "name": "stdout",
          "text": [
            "Enter demand (units/year):100\n",
            "Enter reorder cost ($/year):1.5\n",
            "Enter holding cost ($/year):3\n",
            "EOQ=10.0 units\n"
          ]
        }
      ]
    },
    {
      "cell_type": "markdown",
      "source": [
        "**ASSIGNMENT 3- NUMERICAL CALCULATOR**"
      ],
      "metadata": {
        "id": "Lzz6w5ujxyMt"
      }
    },
    {
      "cell_type": "code",
      "source": [
        "#INPUT\n",
        "num1= float(input('1st number '))\n",
        "num2= float(input('2nd number '))\n",
        "op= input('Choose opearator(+,-,*,/):')\n",
        "\n",
        "if op==\"+\":\n",
        " print(f'{num1}+{num2}={num1 + num2}')\n",
        "if op==\"-\":\n",
        " print(f'{num1}-{num2}={num1 - num2}')\n",
        "if op==\"*\":\n",
        " print(f'{num1}*{num2}={num1 * num2}')\n",
        "if op==\"/\":\n",
        " print(f'{num1}/{num2}={num1 / num2}')"
      ],
      "metadata": {
        "colab": {
          "base_uri": "https://localhost:8080/"
        },
        "id": "CMmmOR91xymt",
        "outputId": "931f7109-5b1c-40fd-ebcf-b1734de2c3fe"
      },
      "execution_count": null,
      "outputs": [
        {
          "output_type": "stream",
          "name": "stdout",
          "text": [
            "1st number 1\n",
            "2nd number 1\n",
            "Choose opearator(+,-,*,/):+\n",
            "1.0+1.0=2.0\n"
          ]
        }
      ]
    },
    {
      "cell_type": "markdown",
      "source": [
        "**ASSIGNMENT 4- PARKING GARAGE**"
      ],
      "metadata": {
        "id": "qV8ML4aZz1RY"
      }
    },
    {
      "cell_type": "code",
      "source": [
        "for hours in range(1, 9):\n",
        "    fee = 5 + hours * 2.5\n",
        "\n",
        "    # Conditions\n",
        "    if fee < 10:\n",
        "        fee = 10\n",
        "        print(\"Note: min fee is 10\")\n",
        "    elif fee > 20:\n",
        "        fee = 20\n",
        "        print(\"Note: max fee is 20:\")\n",
        "\n",
        "    print(f\"Number of hours : {hours}  ${fee}\")"
      ],
      "metadata": {
        "id": "rluxzY-oz6aC",
        "outputId": "8336c8aa-38e9-4761-b807-e642471f3cc3",
        "colab": {
          "base_uri": "https://localhost:8080/"
        }
      },
      "execution_count": null,
      "outputs": [
        {
          "output_type": "stream",
          "name": "stdout",
          "text": [
            "Note: min fee is 10\n",
            "Number of hours : 1  $10\n",
            "Number of hours : 2  $10.0\n",
            "Number of hours : 3  $12.5\n",
            "Number of hours : 4  $15.0\n",
            "Number of hours : 5  $17.5\n",
            "Number of hours : 6  $20.0\n",
            "Note: max fee is 20:\n",
            "Number of hours : 7  $20\n",
            "Note: max fee is 20:\n",
            "Number of hours : 8  $20\n"
          ]
        }
      ]
    },
    {
      "cell_type": "markdown",
      "source": [
        "**ASSIGNMENT 5- MOVIE THEATER**"
      ],
      "metadata": {
        "id": "m-p6vq3BvBgU"
      }
    },
    {
      "cell_type": "code",
      "source": [
        "for ad in range(0, 201, 25):\n",
        "    revenue = 10 * (20 + 2 * ad**0.5) - 200 - ad\n",
        "    print(ad, revenue)"
      ],
      "metadata": {
        "colab": {
          "base_uri": "https://localhost:8080/"
        },
        "id": "u2S5ZoEdvGrp",
        "outputId": "d439bc8a-0050-4ccc-f42e-7c3c204d001b"
      },
      "execution_count": null,
      "outputs": [
        {
          "output_type": "stream",
          "name": "stdout",
          "text": [
            "0 0.0\n",
            "25 75.0\n",
            "50 91.42135623730951\n",
            "75 98.20508075688781\n",
            "100 100.0\n",
            "125 98.60679774997897\n",
            "150 94.94897427831779\n",
            "175 89.57513110645903\n",
            "200 82.84271247461902\n"
          ]
        }
      ]
    },
    {
      "cell_type": "markdown",
      "source": [
        "**ASSIGNMENT 6- APPEND ITEMS TO LIST ITERATIVELY**"
      ],
      "metadata": {
        "id": "lbwfzPcGyiw-"
      }
    },
    {
      "cell_type": "code",
      "source": [
        "numbers = []  # Assign Value\n",
        "\n",
        "num = int(input(\"Enter a number: \"))\n",
        "\n",
        "while num != 0:  # Conditional\n",
        "    numbers.append(num)  # Add to the list\n",
        "    # Update the value (inside the loop!)\n",
        "    num = int(input(\"Enter a number: \"))\n",
        "\n",
        "# Sorting (requested by the assignment)\n",
        "numbers.sort(reverse=True)\n",
        "print(numbers)"
      ],
      "metadata": {
        "colab": {
          "base_uri": "https://localhost:8080/"
        },
        "id": "IkO94VDr1xc7",
        "outputId": "684b92dd-f787-4e47-cc2c-5d4f0a15cfde"
      },
      "execution_count": null,
      "outputs": [
        {
          "output_type": "stream",
          "name": "stdout",
          "text": [
            "Enter a number: 1\n",
            "Enter a number: 5\n",
            "Enter a number: 8\n",
            "Enter a number: 0\n",
            "[8, 5, 1]\n"
          ]
        }
      ]
    },
    {
      "cell_type": "markdown",
      "source": [
        "**Assignment 7- Rock-paper- Scissors**"
      ],
      "metadata": {
        "id": "kDoqw7ljnaMq"
      }
    },
    {
      "cell_type": "code",
      "source": [
        "import random\n",
        "\n",
        "print(\"Welcome to Rock-Paper-Scissors!\")\n",
        "\n",
        "# Ask user if they want to play\n",
        "play = input(\"Do you want to play? (yes/no): \").lower()\n",
        "\n",
        "while play == \"yes\":\n",
        "    # Get user choice\n",
        "    user_choice = input(\"Choose rock, paper, or scissors: \").lower()\n",
        "\n",
        "    # Make sure the user enters a valid choice\n",
        "    if user_choice not in [\"rock\", \"paper\", \"scissors\"]:\n",
        "        print(\"Invalid choice. Please try again.\")\n",
        "        continue\n",
        "\n",
        "    # Computer makes a random choice\n",
        "    computer_choice = random.choice([\"rock\", \"paper\", \"scissors\"])\n",
        "    print(f\"The computer chose: {computer_choice}\")\n",
        "\n",
        "    # Decide the winner\n",
        "    if user_choice == computer_choice:\n",
        "        print(\"It's a tie!\")\n",
        "    elif (user_choice == \"rock\" and computer_choice == \"scissors\") or \\\n",
        "         (user_choice == \"scissors\" and computer_choice == \"paper\") or \\\n",
        "         (user_choice == \"paper\" and computer_choice == \"rock\"):\n",
        "        print(\"You win!\")\n",
        "    else:\n",
        "        print(\"Computer wins!\")\n",
        "\n",
        "    # Ask if they want to play again\n",
        "    play = input(\"Do you want to play again? (yes/no): \").lower()\n",
        "\n",
        "print(\"Thanks for playing!\")"
      ],
      "metadata": {
        "colab": {
          "base_uri": "https://localhost:8080/"
        },
        "id": "TdXC9jeBnZSP",
        "outputId": "e40112ec-c52d-41a1-cd3b-c898673cc802"
      },
      "execution_count": null,
      "outputs": [
        {
          "output_type": "stream",
          "name": "stdout",
          "text": [
            "Welcome to Rock-Paper-Scissors!\n",
            "Do you want to play? (yes/no): yes\n",
            "Choose rock, paper, or scissors: rock\n",
            "The computer chose: paper\n",
            "Computer wins!\n",
            "Do you want to play again? (yes/no): yes\n",
            "Choose rock, paper, or scissors: rock\n",
            "The computer chose: paper\n",
            "Computer wins!\n",
            "Do you want to play again? (yes/no): no\n",
            "Thanks for playing!\n"
          ]
        }
      ]
    },
    {
      "cell_type": "markdown",
      "source": [
        "** ASSIGNMENT 8- PRODUCT PRICES (Dictionaries)**"
      ],
      "metadata": {
        "id": "SIxR9u_W6R0D"
      }
    },
    {
      "cell_type": "code",
      "source": [
        "products = {'p1': 9.95,\n",
        "            'p2': 10.5}\n",
        "\n",
        "id = input('enter ID: ')\n",
        "if id in products:\n",
        " print(products[id])\n",
        "else:\n",
        "  print('id not found')\n",
        "\n"
      ],
      "metadata": {
        "colab": {
          "base_uri": "https://localhost:8080/"
        },
        "id": "DpbgLWN95xqI",
        "outputId": "a842c45f-e8ba-47d9-f6ab-9594a1c6de40"
      },
      "execution_count": 17,
      "outputs": [
        {
          "output_type": "stream",
          "name": "stdout",
          "text": [
            "enter ID: p3\n",
            "id not found\n"
          ]
        }
      ]
    }
  ]
}