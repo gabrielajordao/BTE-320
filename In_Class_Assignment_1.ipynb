{
  "nbformat": 4,
  "nbformat_minor": 0,
  "metadata": {
    "colab": {
      "provenance": [],
      "authorship_tag": "ABX9TyMwVKFhpipdwMs0oJVPM7Qd",
      "include_colab_link": true
    },
    "kernelspec": {
      "name": "python3",
      "display_name": "Python 3"
    },
    "language_info": {
      "name": "python"
    }
  },
  "cells": [
    {
      "cell_type": "markdown",
      "metadata": {
        "id": "view-in-github",
        "colab_type": "text"
      },
      "source": [
        "<a href=\"https://colab.research.google.com/github/gabrielajordao/BTE-320/blob/main/In_Class_Assignment_1.ipynb\" target=\"_parent\"><img src=\"https://colab.research.google.com/assets/colab-badge.svg\" alt=\"Open In Colab\"/></a>"
      ]
    },
    {
      "cell_type": "markdown",
      "source": [
        "Assignment 1 (income statement)"
      ],
      "metadata": {
        "id": "qgC75f7baeKm"
      }
    },
    {
      "cell_type": "code",
      "source": [
        "sales= float(input('enter sales:($)'))\n",
        "COGS= 0.4*sales\n",
        "sales-COGS"
      ],
      "metadata": {
        "colab": {
          "base_uri": "https://localhost:8080/"
        },
        "id": "wWPIorqMaiCI",
        "outputId": "fd60ef6f-721c-4c72-e78a-ee955a301a6b"
      },
      "execution_count": 13,
      "outputs": [
        {
          "name": "stdout",
          "output_type": "stream",
          "text": [
            "enter sales:($)12000\n"
          ]
        },
        {
          "output_type": "execute_result",
          "data": {
            "text/plain": [
              "7200.0"
            ]
          },
          "metadata": {},
          "execution_count": 13
        }
      ]
    },
    {
      "cell_type": "markdown",
      "source": [
        "Class Solution:"
      ],
      "metadata": {
        "id": "bXMiT3ckeH7o"
      }
    },
    {
      "cell_type": "code",
      "source": [
        "sales= float(input('enter sales ($):'))\n",
        "COGS=0.4\n",
        "grossprofit= sales - (COGS* sales)\n",
        "print(grossprofit)\n"
      ],
      "metadata": {
        "colab": {
          "base_uri": "https://localhost:8080/"
        },
        "id": "NZ9_3yAycWMl",
        "outputId": "50edff1b-1dd2-4d5c-88dc-0f23d21b2cd1"
      },
      "execution_count": 17,
      "outputs": [
        {
          "output_type": "stream",
          "name": "stdout",
          "text": [
            "enter sales ($):12000\n",
            "7200.0\n"
          ]
        }
      ]
    },
    {
      "cell_type": "code",
      "source": [
        "sales= float(input('enter sales ($):'))\n",
        "COGS=0.4\n",
        "grossprofit= sales - (COGS* sales)\n",
        "print(f\"Gross profit: $ {grossprofit}\")\n"
      ],
      "metadata": {
        "colab": {
          "base_uri": "https://localhost:8080/"
        },
        "id": "9pkubIC_eRbf",
        "outputId": "fd6044c2-6ac6-49d3-c8e2-eacdb1c0392e"
      },
      "execution_count": 18,
      "outputs": [
        {
          "output_type": "stream",
          "name": "stdout",
          "text": [
            "enter sales ($):12000\n",
            "Gross profit: $ 7200.0\n"
          ]
        }
      ]
    },
    {
      "cell_type": "markdown",
      "source": [
        "Part 2"
      ],
      "metadata": {
        "id": "GzfHMZo0fyho"
      }
    },
    {
      "cell_type": "code",
      "source": [
        "sales= float(input('enter sales ($):'))\n",
        "COGS=0.4\n",
        "tax= float(input('enter tax:'))\n",
        "grossprofit= sales - (COGS* sales)\n",
        "netincome= grossprofit-tax\n",
        "print(sales)\n",
        "print(COGS)\n",
        "print(grossprofit)\n",
        "print(tax)\n",
        "print(netincome)\n",
        "\n",
        "\n"
      ],
      "metadata": {
        "colab": {
          "base_uri": "https://localhost:8080/"
        },
        "id": "OgdRrubsf2hp",
        "outputId": "b4b8bf8f-d907-4075-f496-02057e021cf6"
      },
      "execution_count": 23,
      "outputs": [
        {
          "output_type": "stream",
          "name": "stdout",
          "text": [
            "enter sales ($):12000\n",
            "enter tax:0.3\n",
            "12000.0\n",
            "0.4\n",
            "7200.0\n",
            "0.3\n",
            "7199.7\n"
          ]
        }
      ]
    },
    {
      "cell_type": "code",
      "source": [
        "sales= float(input('enter sales ($):'))\n",
        "print(f'sales:${sales})')\n",
        "\n",
        "COGS=0.4\n",
        "cogs_sold= sales*COGS\n",
        "print(f'cog:${cogs_sold})')\n",
        "\n",
        "grossprofit= sales - (COGS* sales)\n",
        "print(f'gross profit:${grossprofit})')\n",
        "\n",
        "rate= float(input('enter tax rate(%)'))\n",
        "print(f'rate:%{rate})')\n",
        "\n",
        "\n",
        "netprofit= grossprofit* (rate/100)"
      ],
      "metadata": {
        "colab": {
          "base_uri": "https://localhost:8080/"
        },
        "id": "rIoIU3ZGhYaN",
        "outputId": "ef17f7ac-abb2-4224-dcd7-c2c9f233ac75"
      },
      "execution_count": 24,
      "outputs": [
        {
          "output_type": "stream",
          "name": "stdout",
          "text": [
            "enter sales ($):12000\n",
            "sales:$12000.0)\n",
            "cog:$4800.0)\n",
            "gross profit:$7200.0)\n",
            "enter tax rate(%)30\n",
            "rate:%30.0)\n"
          ]
        }
      ]
    }
  ]
}